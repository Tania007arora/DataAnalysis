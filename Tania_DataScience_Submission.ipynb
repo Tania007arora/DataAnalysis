{
 "cells": [
  {
   "cell_type": "markdown",
   "metadata": {},
   "source": []
  },
  {
   "cell_type": "markdown",
   "metadata": {},
   "source": [
    "# Data Analysis and Prediction using Customer Data\n"
   ]
  },
  {
   "cell_type": "markdown",
   "metadata": {},
   "source": [
    "### In this project we'll analyse how different categories such as age, gender, demography effects what a customer prefers to buy from an e-commerce website"
   ]
  },
  {
   "cell_type": "markdown",
   "metadata": {},
   "source": [
    "### Importing Python Libraries"
   ]
  },
  {
   "cell_type": "code",
   "execution_count": 88,
   "metadata": {},
   "outputs": [],
   "source": [
    "import pandas as pd\n",
    "import numpy as np\n",
    "import matplotlib.pyplot as plt\n",
    "from sklearn.model_selection import train_test_split\n",
    "from sklearn.linear_model import LogisticRegression\n",
    "from scipy.stats import chi2_contingency\n",
    "from scipy.stats import chi2\n",
    "import statsmodels.api as sm\n",
    "import scipy\n",
    "\n",
    "from scipy import stats"
   ]
  },
  {
   "cell_type": "code",
   "execution_count": 89,
   "metadata": {},
   "outputs": [],
   "source": [
    "import sklearn\n",
    "from sklearn.preprocessing import LabelEncoder"
   ]
  },
  {
   "cell_type": "markdown",
   "metadata": {},
   "source": [
    "### Importing customer dataset "
   ]
  },
  {
   "cell_type": "code",
   "execution_count": 90,
   "metadata": {},
   "outputs": [],
   "source": [
    "colnames=['Time','Age','Gender','City','State','Product Category']\n",
    "data=pd.read_excel(\"D:\\\\PU\\\\data analytics with python\\\\Tania_Customer_data.xlsx\",names=colnames)"
   ]
  },
  {
   "cell_type": "code",
   "execution_count": 91,
   "metadata": {},
   "outputs": [
    {
     "data": {
      "text/plain": [
       "(105, 6)"
      ]
     },
     "execution_count": 91,
     "metadata": {},
     "output_type": "execute_result"
    }
   ],
   "source": [
    "data.shape"
   ]
  },
  {
   "cell_type": "code",
   "execution_count": 92,
   "metadata": {},
   "outputs": [
    {
     "data": {
      "text/plain": [
       "Time                datetime64[ns]\n",
       "Age                         object\n",
       "Gender                      object\n",
       "City                        object\n",
       "State                       object\n",
       "Product Category            object\n",
       "dtype: object"
      ]
     },
     "execution_count": 92,
     "metadata": {},
     "output_type": "execute_result"
    }
   ],
   "source": [
    "data.dtypes"
   ]
  },
  {
   "cell_type": "code",
   "execution_count": 93,
   "metadata": {},
   "outputs": [
    {
     "data": {
      "text/html": [
       "<div>\n",
       "<style scoped>\n",
       "    .dataframe tbody tr th:only-of-type {\n",
       "        vertical-align: middle;\n",
       "    }\n",
       "\n",
       "    .dataframe tbody tr th {\n",
       "        vertical-align: top;\n",
       "    }\n",
       "\n",
       "    .dataframe thead th {\n",
       "        text-align: right;\n",
       "    }\n",
       "</style>\n",
       "<table border=\"1\" class=\"dataframe\">\n",
       "  <thead>\n",
       "    <tr style=\"text-align: right;\">\n",
       "      <th></th>\n",
       "      <th>Time</th>\n",
       "      <th>Age</th>\n",
       "      <th>Gender</th>\n",
       "      <th>City</th>\n",
       "      <th>State</th>\n",
       "      <th>Product Category</th>\n",
       "    </tr>\n",
       "  </thead>\n",
       "  <tbody>\n",
       "    <tr>\n",
       "      <th>0</th>\n",
       "      <td>2021-08-01 21:34:29.289</td>\n",
       "      <td>18-25</td>\n",
       "      <td>Female</td>\n",
       "      <td>Jalandhar</td>\n",
       "      <td>Punjab</td>\n",
       "      <td>Tech Accessories</td>\n",
       "    </tr>\n",
       "    <tr>\n",
       "      <th>1</th>\n",
       "      <td>2021-08-01 21:34:57.059</td>\n",
       "      <td>18-25</td>\n",
       "      <td>Male</td>\n",
       "      <td>Jalandhar</td>\n",
       "      <td>Punjab</td>\n",
       "      <td>Tech Accessories</td>\n",
       "    </tr>\n",
       "    <tr>\n",
       "      <th>2</th>\n",
       "      <td>2021-08-01 21:35:14.679</td>\n",
       "      <td>51-55</td>\n",
       "      <td>Female</td>\n",
       "      <td>Jalandhar</td>\n",
       "      <td>Punjab</td>\n",
       "      <td>Clothes</td>\n",
       "    </tr>\n",
       "    <tr>\n",
       "      <th>3</th>\n",
       "      <td>2021-08-01 21:35:43.554</td>\n",
       "      <td>55+</td>\n",
       "      <td>Male</td>\n",
       "      <td>Jalandhar</td>\n",
       "      <td>Punjab</td>\n",
       "      <td>Clothes</td>\n",
       "    </tr>\n",
       "    <tr>\n",
       "      <th>4</th>\n",
       "      <td>2021-08-01 21:36:00.371</td>\n",
       "      <td>51-55</td>\n",
       "      <td>Female</td>\n",
       "      <td>Ludhiana</td>\n",
       "      <td>Punjab</td>\n",
       "      <td>Clothes</td>\n",
       "    </tr>\n",
       "    <tr>\n",
       "      <th>...</th>\n",
       "      <td>...</td>\n",
       "      <td>...</td>\n",
       "      <td>...</td>\n",
       "      <td>...</td>\n",
       "      <td>...</td>\n",
       "      <td>...</td>\n",
       "    </tr>\n",
       "    <tr>\n",
       "      <th>100</th>\n",
       "      <td>2021-08-04 00:03:38.226</td>\n",
       "      <td>0-17</td>\n",
       "      <td>Female</td>\n",
       "      <td>Kolkata</td>\n",
       "      <td>West bengal</td>\n",
       "      <td>Books</td>\n",
       "    </tr>\n",
       "    <tr>\n",
       "      <th>101</th>\n",
       "      <td>2021-08-04 00:03:38.226</td>\n",
       "      <td>0-17</td>\n",
       "      <td>Female</td>\n",
       "      <td>Kolkata</td>\n",
       "      <td>West bengal</td>\n",
       "      <td>Books</td>\n",
       "    </tr>\n",
       "    <tr>\n",
       "      <th>102</th>\n",
       "      <td>2021-08-04 00:03:38.226</td>\n",
       "      <td>0-17</td>\n",
       "      <td>Female</td>\n",
       "      <td>Kolkata</td>\n",
       "      <td>West bengal</td>\n",
       "      <td>Books</td>\n",
       "    </tr>\n",
       "    <tr>\n",
       "      <th>103</th>\n",
       "      <td>2021-08-02 16:44:13.962</td>\n",
       "      <td>0-17</td>\n",
       "      <td>Male</td>\n",
       "      <td>Surat</td>\n",
       "      <td>Gujrat</td>\n",
       "      <td>Books</td>\n",
       "    </tr>\n",
       "    <tr>\n",
       "      <th>104</th>\n",
       "      <td>2021-08-03 08:40:02.489</td>\n",
       "      <td>18-25</td>\n",
       "      <td>Male</td>\n",
       "      <td>Pune</td>\n",
       "      <td>Maharashtra</td>\n",
       "      <td>Books</td>\n",
       "    </tr>\n",
       "  </tbody>\n",
       "</table>\n",
       "<p>105 rows × 6 columns</p>\n",
       "</div>"
      ],
      "text/plain": [
       "                       Time    Age  Gender        City        State  \\\n",
       "0   2021-08-01 21:34:29.289  18-25  Female  Jalandhar        Punjab   \n",
       "1   2021-08-01 21:34:57.059  18-25    Male  Jalandhar        Punjab   \n",
       "2   2021-08-01 21:35:14.679  51-55  Female  Jalandhar        Punjab   \n",
       "3   2021-08-01 21:35:43.554    55+    Male   Jalandhar       Punjab   \n",
       "4   2021-08-01 21:36:00.371  51-55  Female   Ludhiana        Punjab   \n",
       "..                      ...    ...     ...         ...          ...   \n",
       "100 2021-08-04 00:03:38.226   0-17  Female     Kolkata  West bengal   \n",
       "101 2021-08-04 00:03:38.226   0-17  Female     Kolkata  West bengal   \n",
       "102 2021-08-04 00:03:38.226   0-17  Female     Kolkata  West bengal   \n",
       "103 2021-08-02 16:44:13.962   0-17    Male       Surat       Gujrat   \n",
       "104 2021-08-03 08:40:02.489  18-25    Male        Pune  Maharashtra   \n",
       "\n",
       "     Product Category  \n",
       "0    Tech Accessories  \n",
       "1    Tech Accessories  \n",
       "2             Clothes  \n",
       "3             Clothes  \n",
       "4             Clothes  \n",
       "..                ...  \n",
       "100             Books  \n",
       "101             Books  \n",
       "102             Books  \n",
       "103             Books  \n",
       "104             Books  \n",
       "\n",
       "[105 rows x 6 columns]"
      ]
     },
     "execution_count": 93,
     "metadata": {},
     "output_type": "execute_result"
    }
   ],
   "source": [
    "data"
   ]
  },
  {
   "cell_type": "code",
   "execution_count": 94,
   "metadata": {},
   "outputs": [],
   "source": [
    "data=data.drop(['Time'],axis=1)"
   ]
  },
  {
   "cell_type": "markdown",
   "metadata": {},
   "source": [
    "#### We'll use 3 Independent Factors for our data analysis -AGE,GENDER,CITY. all 3 are further independent of each other."
   ]
  },
  {
   "cell_type": "markdown",
   "metadata": {},
   "source": [
    "### Checking for any NA Values"
   ]
  },
  {
   "cell_type": "code",
   "execution_count": 95,
   "metadata": {},
   "outputs": [
    {
     "data": {
      "text/plain": [
       "Age                 0\n",
       "Gender              0\n",
       "City                0\n",
       "State               0\n",
       "Product Category    0\n",
       "dtype: int64"
      ]
     },
     "execution_count": 95,
     "metadata": {},
     "output_type": "execute_result"
    }
   ],
   "source": [
    "data.isna().sum()"
   ]
  },
  {
   "cell_type": "markdown",
   "metadata": {},
   "source": [
    "### Distribution of Categories"
   ]
  },
  {
   "cell_type": "code",
   "execution_count": 96,
   "metadata": {},
   "outputs": [
    {
     "data": {
      "text/plain": [
       "Text(0.5, 1.0, 'Product Categories Distribution')"
      ]
     },
     "execution_count": 96,
     "metadata": {},
     "output_type": "execute_result"
    },
    {
     "data": {
      "image/png": "[encoded data removed]",
      "text/plain": [
       "<Figure size 432x288 with 1 Axes>"
      ]
     },
     "metadata": {},
     "output_type": "display_data"
    }
   ],
   "source": [
    "sort_counts=data['Product Category'].value_counts()\n",
    "plt.pie(sort_counts,labels=sort_counts.index.values,startangle=90,counterclock=False,autopct=\"%.0f%%\")\n",
    "plt.axis('equal')\n",
    "plt.title('Product Categories Distribution')"
   ]
  },
  {
   "cell_type": "markdown",
   "metadata": {},
   "source": [
    "From Above Pie chart we can see that categories Clothing accessories,Tech Accessories and clothes are dominated preference of customers"
   ]
  },
  {
   "cell_type": "code",
   "execution_count": 97,
   "metadata": {},
   "outputs": [
    {
     "data": {
      "text/html": [
       "<div>\n",
       "<style scoped>\n",
       "    .dataframe tbody tr th:only-of-type {\n",
       "        vertical-align: middle;\n",
       "    }\n",
       "\n",
       "    .dataframe tbody tr th {\n",
       "        vertical-align: top;\n",
       "    }\n",
       "\n",
       "    .dataframe thead th {\n",
       "        text-align: right;\n",
       "    }\n",
       "</style>\n",
       "<table border=\"1\" class=\"dataframe\">\n",
       "  <thead>\n",
       "    <tr style=\"text-align: right;\">\n",
       "      <th></th>\n",
       "      <th>Age</th>\n",
       "      <th>Gender</th>\n",
       "      <th>City</th>\n",
       "      <th>State</th>\n",
       "      <th>Product Category</th>\n",
       "    </tr>\n",
       "  </thead>\n",
       "  <tbody>\n",
       "    <tr>\n",
       "      <th>count</th>\n",
       "      <td>105</td>\n",
       "      <td>105</td>\n",
       "      <td>105</td>\n",
       "      <td>105</td>\n",
       "      <td>105</td>\n",
       "    </tr>\n",
       "    <tr>\n",
       "      <th>unique</th>\n",
       "      <td>7</td>\n",
       "      <td>2</td>\n",
       "      <td>31</td>\n",
       "      <td>22</td>\n",
       "      <td>6</td>\n",
       "    </tr>\n",
       "    <tr>\n",
       "      <th>top</th>\n",
       "      <td>18-25</td>\n",
       "      <td>Female</td>\n",
       "      <td>Jalandhar</td>\n",
       "      <td>Punjab</td>\n",
       "      <td>Clothes</td>\n",
       "    </tr>\n",
       "    <tr>\n",
       "      <th>freq</th>\n",
       "      <td>40</td>\n",
       "      <td>57</td>\n",
       "      <td>18</td>\n",
       "      <td>32</td>\n",
       "      <td>27</td>\n",
       "    </tr>\n",
       "  </tbody>\n",
       "</table>\n",
       "</div>"
      ],
      "text/plain": [
       "          Age  Gender        City   State Product Category\n",
       "count     105     105         105     105              105\n",
       "unique      7       2          31      22                6\n",
       "top     18-25  Female  Jalandhar   Punjab          Clothes\n",
       "freq       40      57          18      32               27"
      ]
     },
     "execution_count": 97,
     "metadata": {},
     "output_type": "execute_result"
    }
   ],
   "source": [
    "data.describe()"
   ]
  },
  {
   "cell_type": "markdown",
   "metadata": {},
   "source": [
    "Our data has maximum frequency of female and customers aged between 18-25"
   ]
  },
  {
   "cell_type": "markdown",
   "metadata": {},
   "source": [
    "### Finding all unique values in columns"
   ]
  },
  {
   "cell_type": "code",
   "execution_count": 98,
   "metadata": {},
   "outputs": [
    {
     "name": "stdout",
     "output_type": "stream",
     "text": [
      "Age Categories: ['18-25' '51-55' '55+' '26-35' '0-17' '36-45' '46-50']\n",
      "Gender Categories: ['Female' 'Male']\n",
      "City Inputs :None\n",
      "State Inputs :['Punjab' 'Maharashtra ' 'Delhi' 'Uttar Pradesh' 'Punjab ' 'Maharashtra'\n",
      " 'West Bengal' 'Tamil nadu ' 'Up' 'Haryana' 'Himachal Pradesh'\n",
      " 'Chandigarh ' 'Gujrat' 'Kerala ' 'Tamip Nadu' 'Tamilnadu' 'Tamilandu'\n",
      " 'Gujarat' 'Tamil Nadu ' 'Gujarat ' 'West bengal' 'Uttar pradesh']\n",
      "Product Categories :['Tech Accessories' 'Clothes' 'Furniture' 'Books'\n",
      " 'Clothing Accessories(Belts,wallets,Bags,etc)' 'Sports equipments']\n"
     ]
    }
   ],
   "source": [
    "print(\"Age Categories: %s\\nGender Categories: %s\\nCity Inputs :%s\\nState Inputs :%s\\nProduct Categories :%s\"%(data['Age'].unique(),data['Gender'].unique(),data['City'].unique().sort(),data['State'].unique(),data['Product Category'].unique()))"
   ]
  },
  {
   "cell_type": "markdown",
   "metadata": {},
   "source": [
    "#### Since there are some spelling mistakes in city and state name column. We'll correct them all with same Name fro unique values"
   ]
  },
  {
   "cell_type": "markdown",
   "metadata": {},
   "source": [
    "Correcting State Names"
   ]
  },
  {
   "cell_type": "code",
   "execution_count": 99,
   "metadata": {},
   "outputs": [],
   "source": [
    "data['State'].where(~(data['State'].str.contains('Tam')),other=\"Tamil Nadu\",inplace=True)\n",
    "data['State'].where(~(data['State'].str.contains('Up|Uttar')),other=\"Uttar Pradesh\",inplace=True)\n",
    "data['State'].where(~(data['State'].str.contains('jab')),other=\"Punjab\",inplace=True)\n",
    "data['State'].where(~(data['State'].str.contains('Maharas')),other=\"Maharashtra\",inplace=True)\n",
    "data['State'].where(~(data['State'].str.contains('West')),other=\"West Bengal\",inplace=True)\n",
    "data['State'].where(~(data['State'].str.contains('Guj')),other=\"Gujarat\",inplace=True)\n",
    "data['State'].where(~(data['State'].str.contains('Chand')),other=\"Chandigarh\",inplace=True)\n",
    "data['State'].where(~(data['State'].str.contains('Kerala')),other=\"Kerala\",inplace=True)"
   ]
  },
  {
   "cell_type": "code",
   "execution_count": 100,
   "metadata": {},
   "outputs": [
    {
     "data": {
      "text/plain": [
       "array(['Ahmedabad ', 'Chandigarh ', 'Chennai ', 'Delhi', 'Jaladhar',\n",
       "       'Jalandhar', 'Jalandhar ', 'Jalandhar City', 'Jalandhar city',\n",
       "       'Jalandhar city ', 'Kolkata', 'Lucknow ', 'Ludhiana', 'Ludhiana ',\n",
       "       'Mansa', 'Mathura', 'Mohali', 'Mumbai', 'Namakkal', 'Nangal',\n",
       "       'Panipat', 'Pune', 'Pune ', 'Saharanpur', 'Salem', 'Sangrur',\n",
       "       'South delhi', 'Sunam', 'Surat', 'Thodupuzha ', 'Yamunanagar'],\n",
       "      dtype=object)"
      ]
     },
     "execution_count": 100,
     "metadata": {},
     "output_type": "execute_result"
    }
   ],
   "source": [
    "unique_city=data['City'].unique()\n",
    "unique_city.sort()\n",
    "unique_city"
   ]
  },
  {
   "cell_type": "markdown",
   "metadata": {},
   "source": [
    "Correcting City Names"
   ]
  },
  {
   "cell_type": "code",
   "execution_count": 101,
   "metadata": {},
   "outputs": [],
   "source": [
    "data['City'].where(~(data['City'].str.contains('Chandigarh')),other=\"Chandigarh\",inplace=True)\n",
    "data['City'].where(~(data['City'].str.contains('Chennai')),other=\"Chennai\",inplace=True)\n",
    "data['City'].where(~(data['City'].str.contains('dhar')),other=\"Jalandhar\",inplace=True)\n",
    "data['City'].where(~(data['City'].str.contains('Lucknow')),other=\"Lucknow\",inplace=True)\n",
    "data['City'].where(~(data['City'].str.contains('dhar')),other=\"Jalandhar\",inplace=True)\n",
    "data['City'].where(~(data['City'].str.contains('delhi|Delhi')),other=\"Delhi\",inplace=True)\n",
    "data['City'].where(~(data['City'].str.contains('Pune')),other=\"Pune\",inplace=True)\n",
    "data['City'].where(~(data['City'].str.contains('Thodupuzha')),other=\"Thodupuzha\",inplace=True)\n",
    "data['City'].where(~(data['City'].str.contains('Ludhiana')),other=\"Ludhiana\",inplace=True)"
   ]
  },
  {
   "cell_type": "code",
   "execution_count": 102,
   "metadata": {},
   "outputs": [
    {
     "data": {
      "text/plain": [
       "array(['Ahmedabad ', 'Chandigarh', 'Chennai', 'Delhi', 'Jalandhar',\n",
       "       'Kolkata', 'Lucknow', 'Ludhiana', 'Mansa', 'Mathura', 'Mohali',\n",
       "       'Mumbai', 'Namakkal', 'Nangal', 'Panipat', 'Pune', 'Saharanpur',\n",
       "       'Salem', 'Sangrur', 'Sunam', 'Surat', 'Thodupuzha', 'Yamunanagar'],\n",
       "      dtype=object)"
      ]
     },
     "execution_count": 102,
     "metadata": {},
     "output_type": "execute_result"
    }
   ],
   "source": [
    "unique_city_clean=data['City'].unique()\n",
    "unique_city_clean.sort()\n",
    "unique_city_clean"
   ]
  },
  {
   "cell_type": "markdown",
   "metadata": {},
   "source": [
    "#### Now We'll categorize the city column into Tier 1 and Tier 2 Cities to see later if products bought by customers is effected by customer's place oforigin"
   ]
  },
  {
   "cell_type": "code",
   "execution_count": 103,
   "metadata": {},
   "outputs": [],
   "source": [
    "data['City Tier']='Tier 2'"
   ]
  },
  {
   "cell_type": "code",
   "execution_count": 104,
   "metadata": {},
   "outputs": [],
   "source": [
    "data['City Tier'].where(~(data['City'].str.contains('Bangalore|Chennai|Delhi|Hyderabad|Kolkata|Mumbai|Ahmedabad|Pune')),other=\"Tier 1\",inplace=True)\n"
   ]
  },
  {
   "cell_type": "markdown",
   "metadata": {},
   "source": [
    "#### Similarly we'll Categorize our age column into Youngsters,Middle Aged and oldaged"
   ]
  },
  {
   "cell_type": "code",
   "execution_count": 105,
   "metadata": {},
   "outputs": [],
   "source": [
    "data['Age Category']='OldAged'"
   ]
  },
  {
   "cell_type": "code",
   "execution_count": 107,
   "metadata": {},
   "outputs": [],
   "source": [
    "data['Age Category'].where(~(data['Age'].str.contains('0-17')),other=\"Youngsters\",inplace=True)\n",
    "data['Age Category'].where(~(data['Age'].str.contains('18-25|26-35|36-45')),other=\"Middle Aged \",inplace=True)\n",
    "data['Age Category'].where(~(data['Age'].str.contains('46-50|50-55|55+')),other=\"OldAged\",inplace=True)\n"
   ]
  },
  {
   "cell_type": "code",
   "execution_count": 108,
   "metadata": {},
   "outputs": [],
   "source": [
    "data_classification=data.drop(['Age','City','State'],axis=1) #Dropping columns not required now"
   ]
  },
  {
   "cell_type": "code",
   "execution_count": 109,
   "metadata": {},
   "outputs": [
    {
     "data": {
      "text/html": [
       "<div>\n",
       "<style scoped>\n",
       "    .dataframe tbody tr th:only-of-type {\n",
       "        vertical-align: middle;\n",
       "    }\n",
       "\n",
       "    .dataframe tbody tr th {\n",
       "        vertical-align: top;\n",
       "    }\n",
       "\n",
       "    .dataframe thead th {\n",
       "        text-align: right;\n",
       "    }\n",
       "</style>\n",
       "<table border=\"1\" class=\"dataframe\">\n",
       "  <thead>\n",
       "    <tr style=\"text-align: right;\">\n",
       "      <th></th>\n",
       "      <th>Gender</th>\n",
       "      <th>Product Category</th>\n",
       "      <th>City Tier</th>\n",
       "      <th>Age Category</th>\n",
       "    </tr>\n",
       "  </thead>\n",
       "  <tbody>\n",
       "    <tr>\n",
       "      <th>0</th>\n",
       "      <td>Female</td>\n",
       "      <td>Tech Accessories</td>\n",
       "      <td>Tier 2</td>\n",
       "      <td>Middle Aged</td>\n",
       "    </tr>\n",
       "    <tr>\n",
       "      <th>1</th>\n",
       "      <td>Male</td>\n",
       "      <td>Tech Accessories</td>\n",
       "      <td>Tier 2</td>\n",
       "      <td>Middle Aged</td>\n",
       "    </tr>\n",
       "    <tr>\n",
       "      <th>2</th>\n",
       "      <td>Female</td>\n",
       "      <td>Clothes</td>\n",
       "      <td>Tier 2</td>\n",
       "      <td>OldAged</td>\n",
       "    </tr>\n",
       "    <tr>\n",
       "      <th>3</th>\n",
       "      <td>Male</td>\n",
       "      <td>Clothes</td>\n",
       "      <td>Tier 2</td>\n",
       "      <td>OldAged</td>\n",
       "    </tr>\n",
       "    <tr>\n",
       "      <th>4</th>\n",
       "      <td>Female</td>\n",
       "      <td>Clothes</td>\n",
       "      <td>Tier 2</td>\n",
       "      <td>OldAged</td>\n",
       "    </tr>\n",
       "    <tr>\n",
       "      <th>...</th>\n",
       "      <td>...</td>\n",
       "      <td>...</td>\n",
       "      <td>...</td>\n",
       "      <td>...</td>\n",
       "    </tr>\n",
       "    <tr>\n",
       "      <th>100</th>\n",
       "      <td>Female</td>\n",
       "      <td>Books</td>\n",
       "      <td>Tier 1</td>\n",
       "      <td>Youngsters</td>\n",
       "    </tr>\n",
       "    <tr>\n",
       "      <th>101</th>\n",
       "      <td>Female</td>\n",
       "      <td>Books</td>\n",
       "      <td>Tier 1</td>\n",
       "      <td>Youngsters</td>\n",
       "    </tr>\n",
       "    <tr>\n",
       "      <th>102</th>\n",
       "      <td>Female</td>\n",
       "      <td>Books</td>\n",
       "      <td>Tier 1</td>\n",
       "      <td>Youngsters</td>\n",
       "    </tr>\n",
       "    <tr>\n",
       "      <th>103</th>\n",
       "      <td>Male</td>\n",
       "      <td>Books</td>\n",
       "      <td>Tier 2</td>\n",
       "      <td>Youngsters</td>\n",
       "    </tr>\n",
       "    <tr>\n",
       "      <th>104</th>\n",
       "      <td>Male</td>\n",
       "      <td>Books</td>\n",
       "      <td>Tier 1</td>\n",
       "      <td>Middle Aged</td>\n",
       "    </tr>\n",
       "  </tbody>\n",
       "</table>\n",
       "<p>105 rows × 4 columns</p>\n",
       "</div>"
      ],
      "text/plain": [
       "     Gender  Product Category City Tier  Age Category\n",
       "0    Female  Tech Accessories    Tier 2  Middle Aged \n",
       "1      Male  Tech Accessories    Tier 2  Middle Aged \n",
       "2    Female           Clothes    Tier 2       OldAged\n",
       "3      Male           Clothes    Tier 2       OldAged\n",
       "4    Female           Clothes    Tier 2       OldAged\n",
       "..      ...               ...       ...           ...\n",
       "100  Female             Books    Tier 1    Youngsters\n",
       "101  Female             Books    Tier 1    Youngsters\n",
       "102  Female             Books    Tier 1    Youngsters\n",
       "103    Male             Books    Tier 2    Youngsters\n",
       "104    Male             Books    Tier 1  Middle Aged \n",
       "\n",
       "[105 rows x 4 columns]"
      ]
     },
     "execution_count": 109,
     "metadata": {},
     "output_type": "execute_result"
    }
   ],
   "source": [
    "data_classification"
   ]
  },
  {
   "cell_type": "markdown",
   "metadata": {},
   "source": [
    "#### All three independent columns are Categorical, So to be able to use them in any Model we'll label them as numeric categories"
   ]
  },
  {
   "cell_type": "code",
   "execution_count": 110,
   "metadata": {},
   "outputs": [],
   "source": [
    "age_label=LabelEncoder()\n",
    "gender_label=LabelEncoder()\n",
    "city_label=LabelEncoder()\n",
    "Product_label=LabelEncoder()"
   ]
  },
  {
   "cell_type": "code",
   "execution_count": 111,
   "metadata": {},
   "outputs": [],
   "source": [
    "data_classification['age_lab']=age_label.fit_transform(data_classification['Age Category'])\n",
    "data_classification['gender_lab']=gender_label.fit_transform(data_classification['Gender'])\n",
    "data_classification['city_lab']=city_label.fit_transform(data_classification['City Tier'])\n",
    "data_classification['Product_lab']=Product_label.fit_transform(data_classification['Product Category'])\n"
   ]
  },
  {
   "cell_type": "code",
   "execution_count": 112,
   "metadata": {},
   "outputs": [],
   "source": [
    "data_classification_new=data_classification.drop(['Gender','Product Category','City Tier','Age Category'],axis=1)"
   ]
  },
  {
   "cell_type": "markdown",
   "metadata": {},
   "source": [
    "#### Seeing the distribution of all categories count in different product categories"
   ]
  },
  {
   "cell_type": "code",
   "execution_count": 113,
   "metadata": {},
   "outputs": [
    {
     "data": {
      "text/html": [
       "<div>\n",
       "<style scoped>\n",
       "    .dataframe tbody tr th:only-of-type {\n",
       "        vertical-align: middle;\n",
       "    }\n",
       "\n",
       "    .dataframe tbody tr th {\n",
       "        vertical-align: top;\n",
       "    }\n",
       "\n",
       "    .dataframe thead th {\n",
       "        text-align: right;\n",
       "    }\n",
       "</style>\n",
       "<table border=\"1\" class=\"dataframe\">\n",
       "  <thead>\n",
       "    <tr style=\"text-align: right;\">\n",
       "      <th></th>\n",
       "      <th>age_lab</th>\n",
       "      <th>gender_lab</th>\n",
       "      <th>city_lab</th>\n",
       "    </tr>\n",
       "    <tr>\n",
       "      <th>Product_lab</th>\n",
       "      <th></th>\n",
       "      <th></th>\n",
       "      <th></th>\n",
       "    </tr>\n",
       "  </thead>\n",
       "  <tbody>\n",
       "    <tr>\n",
       "      <th>0</th>\n",
       "      <td>15</td>\n",
       "      <td>15</td>\n",
       "      <td>15</td>\n",
       "    </tr>\n",
       "    <tr>\n",
       "      <th>1</th>\n",
       "      <td>27</td>\n",
       "      <td>27</td>\n",
       "      <td>27</td>\n",
       "    </tr>\n",
       "    <tr>\n",
       "      <th>2</th>\n",
       "      <td>23</td>\n",
       "      <td>23</td>\n",
       "      <td>23</td>\n",
       "    </tr>\n",
       "    <tr>\n",
       "      <th>3</th>\n",
       "      <td>11</td>\n",
       "      <td>11</td>\n",
       "      <td>11</td>\n",
       "    </tr>\n",
       "    <tr>\n",
       "      <th>4</th>\n",
       "      <td>9</td>\n",
       "      <td>9</td>\n",
       "      <td>9</td>\n",
       "    </tr>\n",
       "    <tr>\n",
       "      <th>5</th>\n",
       "      <td>20</td>\n",
       "      <td>20</td>\n",
       "      <td>20</td>\n",
       "    </tr>\n",
       "  </tbody>\n",
       "</table>\n",
       "</div>"
      ],
      "text/plain": [
       "             age_lab  gender_lab  city_lab\n",
       "Product_lab                               \n",
       "0                 15          15        15\n",
       "1                 27          27        27\n",
       "2                 23          23        23\n",
       "3                 11          11        11\n",
       "4                  9           9         9\n",
       "5                 20          20        20"
      ]
     },
     "execution_count": 113,
     "metadata": {},
     "output_type": "execute_result"
    }
   ],
   "source": [
    "data_classification_new.groupby(['Product_lab']).count()"
   ]
  },
  {
   "cell_type": "markdown",
   "metadata": {},
   "source": [
    "### Preparing our dataset for model training and testing"
   ]
  },
  {
   "cell_type": "markdown",
   "metadata": {},
   "source": [
    "#### Putting our independent variables into X variable\n",
    "#### Putting our dependent variable i.e. Product category into Y variable"
   ]
  },
  {
   "cell_type": "code",
   "execution_count": 114,
   "metadata": {},
   "outputs": [],
   "source": [
    "x=data_classification_new[['age_lab','gender_lab','city_lab']]\n",
    "y=data_classification_new['Product_lab']"
   ]
  },
  {
   "cell_type": "markdown",
   "metadata": {},
   "source": [
    "#### Dividing our dataset into training and testing using sklearn library"
   ]
  },
  {
   "cell_type": "code",
   "execution_count": 115,
   "metadata": {},
   "outputs": [],
   "source": [
    "train_x, test_x, train_y, test_y = train_test_split(x,y , test_size=0.3, random_state=37)\n"
   ]
  },
  {
   "cell_type": "markdown",
   "metadata": {},
   "source": [
    "#### Since both Independent and dependent variable are categorical in nature we'll chose Decision Tree Classifier to predict product category based on AGE,GENDER AND CITY OF THE CUSTOMER"
   ]
  },
  {
   "cell_type": "code",
   "execution_count": 116,
   "metadata": {},
   "outputs": [],
   "source": [
    "from sklearn.tree import DecisionTreeClassifier\n",
    "model=DecisionTreeClassifier()        #Initializing DecisionTreeClassfier\n",
    "model_dt=model.fit(train_x,train_y)   #TRAINING OUR MODEL"
   ]
  },
  {
   "cell_type": "markdown",
   "metadata": {},
   "source": [
    "#### To check the accuracy of our model we'll import metrics library"
   ]
  },
  {
   "cell_type": "code",
   "execution_count": 117,
   "metadata": {},
   "outputs": [],
   "source": [
    "from sklearn import metrics\n",
    "        "
   ]
  },
  {
   "cell_type": "markdown",
   "metadata": {},
   "source": [
    "#### Predicting Product category for the test data that we had splitted earlier"
   ]
  },
  {
   "cell_type": "code",
   "execution_count": 118,
   "metadata": {},
   "outputs": [],
   "source": [
    "y_pred=model_dt.predict(test_x)"
   ]
  },
  {
   "cell_type": "code",
   "execution_count": 119,
   "metadata": {},
   "outputs": [
    {
     "data": {
      "text/plain": [
       "array([0, 2, 0, 4, 2, 3, 2, 4, 0, 3, 3, 5, 3, 2, 5, 4, 2, 1, 1, 3, 1, 4,\n",
       "       2, 5, 2, 4, 5, 0, 2, 2, 5, 0])"
      ]
     },
     "execution_count": 119,
     "metadata": {},
     "output_type": "execute_result"
    }
   ],
   "source": [
    "y_pred"
   ]
  },
  {
   "cell_type": "markdown",
   "metadata": {},
   "source": [
    "#### Checking Accuracy Score"
   ]
  },
  {
   "cell_type": "code",
   "execution_count": 120,
   "metadata": {},
   "outputs": [
    {
     "data": {
      "text/plain": [
       "0.5625"
      ]
     },
     "execution_count": 120,
     "metadata": {},
     "output_type": "execute_result"
    }
   ],
   "source": [
    "metrics.accuracy_score(test_y,y_pred)"
   ]
  },
  {
   "cell_type": "markdown",
   "metadata": {},
   "source": [
    "Conclusion:Now the result isn't satisfying ,since .5625 score is not enough to make predictions. The model can be enhanced with more and\n",
    "unbiased data. The data used here is seen to be more inclined to 1-2 categories.Hence our model is usually predicting those \n",
    "categories to be more accurate. It can also be resolved using weights for each class/category.\n",
    "Or we can try some other machine learning or deep learning model for better prediction."
   ]
  },
  {
   "cell_type": "markdown",
   "metadata": {},
   "source": [
    "Checking accuracy using F1 SCORE Method"
   ]
  },
  {
   "cell_type": "code",
   "execution_count": 121,
   "metadata": {},
   "outputs": [],
   "source": [
    "from sklearn.metrics import confusion_matrix"
   ]
  },
  {
   "cell_type": "code",
   "execution_count": 122,
   "metadata": {},
   "outputs": [
    {
     "data": {
      "text/plain": [
       "array([[2, 0, 0, 0, 2, 1],\n",
       "       [0, 3, 4, 0, 0, 0],\n",
       "       [0, 0, 4, 2, 0, 1],\n",
       "       [0, 0, 0, 3, 0, 0],\n",
       "       [0, 0, 0, 0, 3, 0],\n",
       "       [3, 0, 1, 0, 0, 3]], dtype=int64)"
      ]
     },
     "execution_count": 122,
     "metadata": {},
     "output_type": "execute_result"
    }
   ],
   "source": [
    "confusion_matrix(test_y, y_pred)\n"
   ]
  },
  {
   "cell_type": "code",
   "execution_count": 123,
   "metadata": {},
   "outputs": [
    {
     "data": {
      "text/plain": [
       "0.5531250000000001"
      ]
     },
     "execution_count": 123,
     "metadata": {},
     "output_type": "execute_result"
    }
   ],
   "source": [
    "from sklearn.metrics import f1_score\n",
    "f1_score(test_y,y_pred,average='weighted')"
   ]
  },
  {
   "cell_type": "markdown",
   "metadata": {},
   "source": [
    "## Checking which factor is effecting the most our results"
   ]
  },
  {
   "cell_type": "markdown",
   "metadata": {},
   "source": [
    "### We'll use \"Chi Square\" Test to check Significance of each factor we have used in our model"
   ]
  },
  {
   "cell_type": "code",
   "execution_count": 124,
   "metadata": {},
   "outputs": [
    {
     "data": {
      "text/html": [
       "<div>\n",
       "<style scoped>\n",
       "    .dataframe tbody tr th:only-of-type {\n",
       "        vertical-align: middle;\n",
       "    }\n",
       "\n",
       "    .dataframe tbody tr th {\n",
       "        vertical-align: top;\n",
       "    }\n",
       "\n",
       "    .dataframe thead th {\n",
       "        text-align: right;\n",
       "    }\n",
       "</style>\n",
       "<table border=\"1\" class=\"dataframe\">\n",
       "  <thead>\n",
       "    <tr style=\"text-align: right;\">\n",
       "      <th>Product_lab</th>\n",
       "      <th>0</th>\n",
       "      <th>1</th>\n",
       "      <th>2</th>\n",
       "      <th>3</th>\n",
       "      <th>4</th>\n",
       "      <th>5</th>\n",
       "    </tr>\n",
       "    <tr>\n",
       "      <th>gender_lab</th>\n",
       "      <th></th>\n",
       "      <th></th>\n",
       "      <th></th>\n",
       "      <th></th>\n",
       "      <th></th>\n",
       "      <th></th>\n",
       "    </tr>\n",
       "  </thead>\n",
       "  <tbody>\n",
       "    <tr>\n",
       "      <th>0</th>\n",
       "      <td>6</td>\n",
       "      <td>19</td>\n",
       "      <td>17</td>\n",
       "      <td>10</td>\n",
       "      <td>0</td>\n",
       "      <td>5</td>\n",
       "    </tr>\n",
       "    <tr>\n",
       "      <th>1</th>\n",
       "      <td>9</td>\n",
       "      <td>8</td>\n",
       "      <td>6</td>\n",
       "      <td>1</td>\n",
       "      <td>9</td>\n",
       "      <td>15</td>\n",
       "    </tr>\n",
       "  </tbody>\n",
       "</table>\n",
       "</div>"
      ],
      "text/plain": [
       "Product_lab  0   1   2   3  4   5\n",
       "gender_lab                       \n",
       "0            6  19  17  10  0   5\n",
       "1            9   8   6   1  9  15"
      ]
     },
     "execution_count": 124,
     "metadata": {},
     "output_type": "execute_result"
    }
   ],
   "source": [
    "data_crosstab_gender = pd.crosstab(data_classification_new['gender_lab'],data_classification_new['Product_lab'],margins = False)\n",
    "data_crosstab_gender   #Frequency table for gender and product category distribution"
   ]
  },
  {
   "cell_type": "code",
   "execution_count": 125,
   "metadata": {},
   "outputs": [
    {
     "name": "stdout",
     "output_type": "stream",
     "text": [
      "DEGREE OF FREEDOM=5\n",
      "[[ 8.14285714 14.65714286 12.48571429  5.97142857  4.88571429 10.85714286]\n",
      " [ 6.85714286 12.34285714 10.51428571  5.02857143  4.11428571  9.14285714]]\n"
     ]
    }
   ],
   "source": [
    "stat, p, dof, expected = chi2_contingency(data_crosstab_gender)\n",
    "print('DEGREE OF FREEDOM=%d' % dof)\n",
    "print(expected)   #The expected frequency for gender category"
   ]
  },
  {
   "cell_type": "code",
   "execution_count": 126,
   "metadata": {},
   "outputs": [
    {
     "name": "stdout",
     "output_type": "stream",
     "text": [
      "probability=0.990, critical=15.086, stat=31.164\n",
      "Dependent (reject H0)\n"
     ]
    }
   ],
   "source": [
    "prob = 0.99\n",
    "critical = chi2.ppf(prob, dof)\n",
    "print('probability=%.3f, critical=%.3f, stat=%.3f' % (prob, critical, stat))\n",
    "if abs(stat) >= critical:\n",
    "    print('Dependent (reject H0)')\n",
    "else:\n",
    "    print('Independent (fail to reject H0)')"
   ]
  },
  {
   "cell_type": "markdown",
   "metadata": {},
   "source": [
    "#### We can conclude that Product Category is dependent on Gender Category"
   ]
  },
  {
   "cell_type": "code",
   "execution_count": 127,
   "metadata": {},
   "outputs": [
    {
     "data": {
      "text/html": [
       "<div>\n",
       "<style scoped>\n",
       "    .dataframe tbody tr th:only-of-type {\n",
       "        vertical-align: middle;\n",
       "    }\n",
       "\n",
       "    .dataframe tbody tr th {\n",
       "        vertical-align: top;\n",
       "    }\n",
       "\n",
       "    .dataframe thead th {\n",
       "        text-align: right;\n",
       "    }\n",
       "</style>\n",
       "<table border=\"1\" class=\"dataframe\">\n",
       "  <thead>\n",
       "    <tr style=\"text-align: right;\">\n",
       "      <th>Product_lab</th>\n",
       "      <th>0</th>\n",
       "      <th>1</th>\n",
       "      <th>2</th>\n",
       "      <th>3</th>\n",
       "      <th>4</th>\n",
       "      <th>5</th>\n",
       "    </tr>\n",
       "    <tr>\n",
       "      <th>city_lab</th>\n",
       "      <th></th>\n",
       "      <th></th>\n",
       "      <th></th>\n",
       "      <th></th>\n",
       "      <th></th>\n",
       "      <th></th>\n",
       "    </tr>\n",
       "  </thead>\n",
       "  <tbody>\n",
       "    <tr>\n",
       "      <th>0</th>\n",
       "      <td>9</td>\n",
       "      <td>2</td>\n",
       "      <td>6</td>\n",
       "      <td>8</td>\n",
       "      <td>0</td>\n",
       "      <td>9</td>\n",
       "    </tr>\n",
       "    <tr>\n",
       "      <th>1</th>\n",
       "      <td>6</td>\n",
       "      <td>25</td>\n",
       "      <td>17</td>\n",
       "      <td>3</td>\n",
       "      <td>9</td>\n",
       "      <td>11</td>\n",
       "    </tr>\n",
       "  </tbody>\n",
       "</table>\n",
       "</div>"
      ],
      "text/plain": [
       "Product_lab  0   1   2  3  4   5\n",
       "city_lab                        \n",
       "0            9   2   6  8  0   9\n",
       "1            6  25  17  3  9  11"
      ]
     },
     "execution_count": 127,
     "metadata": {},
     "output_type": "execute_result"
    }
   ],
   "source": [
    "data_crosstab_city = pd.crosstab(data_classification_new['city_lab'],data_classification_new['Product_lab'],margins = False)\n",
    "data_crosstab_city   #Frequency table for City and product category distribution"
   ]
  },
  {
   "cell_type": "code",
   "execution_count": 128,
   "metadata": {},
   "outputs": [
    {
     "name": "stdout",
     "output_type": "stream",
     "text": [
      "DEGREE OF FREEDOM=5\n",
      "[[ 4.85714286  8.74285714  7.44761905  3.56190476  2.91428571  6.47619048]\n",
      " [10.14285714 18.25714286 15.55238095  7.43809524  6.08571429 13.52380952]]\n"
     ]
    }
   ],
   "source": [
    "stat, p, dof, expected = chi2_contingency(data_crosstab_city)\n",
    "print('DEGREE OF FREEDOM=%d' % dof)\n",
    "print(expected)"
   ]
  },
  {
   "cell_type": "code",
   "execution_count": 129,
   "metadata": {},
   "outputs": [
    {
     "name": "stdout",
     "output_type": "stream",
     "text": [
      "probability=0.990, critical=15.086, stat=27.275\n",
      "Dependent (reject H0)\n"
     ]
    }
   ],
   "source": [
    "prob = 0.99\n",
    "critical = chi2.ppf(prob, dof)\n",
    "print('probability=%.3f, critical=%.3f, stat=%.3f' % (prob, critical, stat))\n",
    "if abs(stat) >= critical:\n",
    "    print('Dependent (reject H0)')\n",
    "else:\n",
    "    print('Independent (fail to reject H0)')"
   ]
  },
  {
   "cell_type": "markdown",
   "metadata": {},
   "source": [
    "####  We can conclude that Product Category is dependent on City Category"
   ]
  },
  {
   "cell_type": "code",
   "execution_count": 130,
   "metadata": {},
   "outputs": [
    {
     "data": {
      "text/html": [
       "<div>\n",
       "<style scoped>\n",
       "    .dataframe tbody tr th:only-of-type {\n",
       "        vertical-align: middle;\n",
       "    }\n",
       "\n",
       "    .dataframe tbody tr th {\n",
       "        vertical-align: top;\n",
       "    }\n",
       "\n",
       "    .dataframe thead th {\n",
       "        text-align: right;\n",
       "    }\n",
       "</style>\n",
       "<table border=\"1\" class=\"dataframe\">\n",
       "  <thead>\n",
       "    <tr style=\"text-align: right;\">\n",
       "      <th>Product_lab</th>\n",
       "      <th>0</th>\n",
       "      <th>1</th>\n",
       "      <th>2</th>\n",
       "      <th>3</th>\n",
       "      <th>4</th>\n",
       "      <th>5</th>\n",
       "    </tr>\n",
       "    <tr>\n",
       "      <th>age_lab</th>\n",
       "      <th></th>\n",
       "      <th></th>\n",
       "      <th></th>\n",
       "      <th></th>\n",
       "      <th></th>\n",
       "      <th></th>\n",
       "    </tr>\n",
       "  </thead>\n",
       "  <tbody>\n",
       "    <tr>\n",
       "      <th>0</th>\n",
       "      <td>5</td>\n",
       "      <td>12</td>\n",
       "      <td>21</td>\n",
       "      <td>9</td>\n",
       "      <td>0</td>\n",
       "      <td>17</td>\n",
       "    </tr>\n",
       "    <tr>\n",
       "      <th>1</th>\n",
       "      <td>0</td>\n",
       "      <td>15</td>\n",
       "      <td>2</td>\n",
       "      <td>2</td>\n",
       "      <td>0</td>\n",
       "      <td>3</td>\n",
       "    </tr>\n",
       "    <tr>\n",
       "      <th>2</th>\n",
       "      <td>10</td>\n",
       "      <td>0</td>\n",
       "      <td>0</td>\n",
       "      <td>0</td>\n",
       "      <td>9</td>\n",
       "      <td>0</td>\n",
       "    </tr>\n",
       "  </tbody>\n",
       "</table>\n",
       "</div>"
      ],
      "text/plain": [
       "Product_lab   0   1   2  3  4   5\n",
       "age_lab                          \n",
       "0             5  12  21  9  0  17\n",
       "1             0  15   2  2  0   3\n",
       "2            10   0   0  0  9   0"
      ]
     },
     "execution_count": 130,
     "metadata": {},
     "output_type": "execute_result"
    }
   ],
   "source": [
    "data_crosstab_age = pd.crosstab(data_classification_new['age_lab'],data_classification_new['Product_lab'],margins = False)\n",
    "data_crosstab_age"
   ]
  },
  {
   "cell_type": "code",
   "execution_count": 131,
   "metadata": {},
   "outputs": [
    {
     "name": "stdout",
     "output_type": "stream",
     "text": [
      "DEGREE OF FREEDOM=10\n",
      "[[ 9.14285714 16.45714286 14.01904762  6.7047619   5.48571429 12.19047619]\n",
      " [ 3.14285714  5.65714286  4.81904762  2.3047619   1.88571429  4.19047619]\n",
      " [ 2.71428571  4.88571429  4.16190476  1.99047619  1.62857143  3.61904762]]\n"
     ]
    }
   ],
   "source": [
    "stat, p, dof, expected = chi2_contingency(data_crosstab_age)\n",
    "print('DEGREE OF FREEDOM=%d' % dof)\n",
    "print(expected)"
   ]
  },
  {
   "cell_type": "code",
   "execution_count": 132,
   "metadata": {},
   "outputs": [
    {
     "name": "stdout",
     "output_type": "stream",
     "text": [
      "probability=0.990, critical=23.209, stat=104.795\n",
      "Dependent (reject H0)\n"
     ]
    }
   ],
   "source": [
    "prob = 0.99\n",
    "critical = chi2.ppf(prob, dof)\n",
    "print('probability=%.3f, critical=%.3f, stat=%.3f' % (prob, critical, stat))\n",
    "if abs(stat) >= critical:\n",
    "    print('Dependent (reject H0)')\n",
    "else:\n",
    "    print('Independent (fail to reject H0)')"
   ]
  },
  {
   "cell_type": "markdown",
   "metadata": {},
   "source": [
    "## In Conclusion,\n",
    "### We can say that Age is the most dominating Factor affecting the Products being bought.\n",
    "### People in age group 1-25 prefer byuing books \n",
    "### People in age group 17-25 prefer tech accessories\n",
    "### Old aged people have more trust in buying clothes from online sites.\n",
    "### For other categories the result has been a mixture of different categories."
   ]
  },
  {
   "cell_type": "markdown",
   "metadata": {},
   "source": [
    "### Scope of Improvement\n",
    "#### As discussed earlier the model is biased because of biased distribution of data which can be corrected with more data or using \n",
    "#### weights.\n",
    "#### We can also include more categories which effect customer choices. Eg whether they are employed or are a student. \n",
    "#### We can divide the cities based on income ctegories."
   ]
  }
 ],
 "metadata": {
  "kernelspec": {
   "display_name": "Python 3",
   "language": "python",
   "name": "python3"
  },
  "language_info": {
   "codemirror_mode": {
    "name": "ipython",
    "version": 3
   },
   "file_extension": ".py",
   "mimetype": "text/x-python",
   "name": "python",
   "nbconvert_exporter": "python",
   "pygments_lexer": "ipython3",
   "version": "3.8.5"
  }
 },
 "nbformat": 4,
 "nbformat_minor": 4
}
